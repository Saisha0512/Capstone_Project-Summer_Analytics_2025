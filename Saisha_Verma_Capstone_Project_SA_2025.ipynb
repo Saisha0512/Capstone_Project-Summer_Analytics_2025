{
  "cells": [
    {
      "cell_type": "markdown",
      "metadata": {
        "id": "b5hz90zE_wgS"
      },
      "source": [
        "# ***Dynamic Pricing for Urban Parking Lots***\n",
        "\n",
        "## **Capstone Project - Summer Analytics 2025**\n"
      ]
    },
    {
      "cell_type": "markdown",
      "metadata": {
        "id": "q_PMiXn8IYEN"
      },
      "source": [
        "# **Made By :**\n",
        "## **Saisha Verma**\n",
        "## **Gmail : saishaverma0512@gmail.com**"
      ]
    },
    {
      "cell_type": "markdown",
      "metadata": {
        "id": "I2CoDk8G_2sM"
      },
      "source": [
        "# **Tables of Content**\n",
        "1. Introduction\n",
        "2. Problem Statement & Dataset Overview\n",
        "3. Data Preparation\n",
        "4. Real-time Simulation with Pathway\n",
        "5. Baseline Linear Pricing Model\n",
        "6. Demand-based Pricing Model\n",
        "7. Competitive Pricing Model\n",
        "8. Real-time Visualization\n",
        "9. Model Explanation & Assumptions"
      ]
    },
    {
      "cell_type": "markdown",
      "metadata": {
        "id": "r5P3441fA3cl"
      },
      "source": [
        "# **Introduction**\n",
        "\n",
        "This notebook demonstrates the development of a real-time dynamic pricing engine for urban parking lots, using live data simulation, feature engineering, and dynamic pricing strategies. The project uses only **Python (Pandas, Numpy), Pathway** for streaming, and **Bokeh** for visualization, as per the problem statement ([see images 1-4])."
      ]
    },
    {
      "cell_type": "markdown",
      "metadata": {
        "id": "4T0K_X9jBB0f"
      },
      "source": [
        "# **Problem Statement & Dataset Overview**\n",
        "\n",
        "**Goal :**\n",
        "\n",
        "Create a real-time dynamic pricing system for 14 urban parking lots, using demand, queue length, traffic, vehicle type, and competition, with all logic built from scratch.\n",
        "\n",
        "**Features in Dataset :**\n",
        "> SystemCodeNumber: Parking lot identifier\n",
        "\n",
        "> Capacity: Total parking spots\n",
        "\n",
        "> Occupancy: Occupied spots\n",
        "\n",
        "> QueueLength: Vehicles waiting\n",
        "\n",
        "> Latitude, Longitude: Location\n",
        "\n",
        "> VehicleType: car/bike/truck\n",
        "\n",
        ">\n",
        "> IsSpecialDay: 1 if special day, else 0\n",
        "\n",
        "> TrafficConditionNearby: low/average/high\n",
        "\n",
        "> Timestamp: Combined date and time"
      ]
    },
    {
      "cell_type": "markdown",
      "metadata": {
        "id": "BcmDMyVEBaD1"
      },
      "source": [
        "# **Data Preparation**"
      ]
    },
    {
      "cell_type": "code",
      "execution_count": null,
      "metadata": {
        "id": "UVXIJ_FY_qrR"
      },
      "outputs": [],
      "source": [
        "# Importing\n",
        "import pandas as pd\n",
        "import numpy as np\n",
        "\n",
        "# Loading Data\n",
        "df = pd.read_csv('dataset.csv')\n",
        "\n",
        "# Parsing Timestamps\n",
        "df['Timestamp'] = pd.to_datetime(df['LastUpdatedDate'] + ' ' + df['LastUpdatedTime'], format='%d-%m-%Y %H:%M:%S')\n",
        "df = df.sort_values(['SystemCodeNumber', 'Timestamp']).reset_index(drop=True)\n",
        "\n",
        "# Exploring & Preprocessing\n",
        "# -> Filling missing values if any\n",
        "df = df.fillna(method='ffill')\n",
        "\n",
        "# -> Encoding categorical variables\n",
        "df['TrafficConditionNearby'] = df['TrafficConditionNearby'].map({'low': 0, 'average': 1, 'high': 2})\n",
        "vehicle_type_map = {'car': 0, 'bike': 1, 'truck': 2, 'cycle': 3}\n",
        "df['VehicleType'] = df['VehicleType'].map(vehicle_type_map)\n",
        "\n",
        "# -> For simulation, select relevant columns\n",
        "cols_for_stream = [\n",
        "    \"SystemCodeNumber\", \"Timestamp\", \"Capacity\", \"Occupancy\", \"QueueLength\",\n",
        "    \"TrafficConditionNearby\", \"IsSpecialDay\", \"VehicleType\", \"Latitude\", \"Longitude\"\n",
        "]\n",
        "df[cols_for_stream].to_csv(\"parking_stream_full.csv\", index=False)\n",
        "df.head()"
      ]
    },
    {
      "cell_type": "markdown",
      "metadata": {
        "id": "OR7HRN7kByy0"
      },
      "source": [
        "# **Real-time Simulation with Pathway**"
      ]
    },
    {
      "cell_type": "code",
      "execution_count": null,
      "metadata": {
        "id": "I-llIyzbCQJE"
      },
      "outputs": [],
      "source": [
        "# Installing pathway\n",
        "!pip install pathway bokeh --quiet"
      ]
    },
    {
      "cell_type": "code",
      "execution_count": null,
      "metadata": {
        "id": "PdHQjfI3BqfM"
      },
      "outputs": [],
      "source": [
        "import pathway as pw\n",
        "\n",
        "# 1. Define Pathway schema for streaming\n",
        "class ParkingSchema(pw.Schema):\n",
        "    SystemCodeNumber: str\n",
        "    Timestamp: str\n",
        "    Capacity: int\n",
        "    Occupancy: int\n",
        "    QueueLength: int\n",
        "    TrafficConditionNearby: int\n",
        "    IsSpecialDay: int\n",
        "    VehicleType: int\n",
        "    Latitude: float\n",
        "    Longitude: float\n",
        "\n",
        "# 2. Simulate the data stream\n",
        "data = pw.demo.replay_csv(\"parking_stream_full.csv\", schema=ParkingSchema, input_rate=1000)\n",
        "\n",
        "# 3. Feature Engineering in Pathway\n",
        "fmt = \"%Y-%m-%d %H:%M:%S\"\n",
        "data_with_time = data.with_columns(\n",
        "    t = data.Timestamp.dt.strptime(fmt),                       # parsed datetime\n",
        "    day = data.Timestamp.dt.strptime(fmt).dt.strftime(\"%Y-%m-%dT00:00:00\"),  # day for daily window\n",
        "    occ_rate = data.Occupancy / data.Capacity,                 # occupancy rate 0-1\n",
        ")"
      ]
    },
    {
      "cell_type": "markdown",
      "metadata": {
        "id": "EOGTvoFEDEX_"
      },
      "source": [
        "# **Baseline Linear Model Pricing**\n",
        "\n",
        "## **Model :**\n",
        "\n",
        "![image.png](data:image/png;base64,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)\n",
        "\n",
        "Implementing a **daily tumbling window** per parking lot."
      ]
    },
    {
      "cell_type": "code",
      "execution_count": null,
      "metadata": {
        "id": "pZP4JkXdB6_h"
      },
      "outputs": [],
      "source": [
        "import datetime\n",
        "import pathway as pw\n",
        "\n",
        "BASE_PRICE = 10\n",
        "ALPHA      = 2.0\n",
        "\n",
        "baseline_window = (\n",
        "    data_with_time.windowby(\n",
        "        pw.this.t,\n",
        "        instance=pw.this.SystemCodeNumber + \"_\" + pw.this.day,\n",
        "        window=pw.temporal.tumbling(datetime.timedelta(days=1)),\n",
        "        behavior=pw.temporal.exactly_once_behavior()\n",
        "    )\n",
        "    .reduce(\n",
        "        lot          = pw.reducers.earliest(pw.this.SystemCodeNumber),\n",
        "        t            = pw.this._pw_window_end,\n",
        "        occ_max      = pw.reducers.max(pw.this.Occupancy),\n",
        "        occ_min      = pw.reducers.min(pw.this.Occupancy),\n",
        "        cap          = pw.reducers.max(pw.this.Capacity),\n",
        "        occ_rate_max = pw.reducers.max(pw.this.occ_rate),\n",
        "    )\n",
        "    .with_columns(\n",
        "        price = BASE_PRICE + ALPHA * pw.this.occ_rate_max\n",
        "    )\n",
        ")\n"
      ]
    },
    {
      "cell_type": "markdown",
      "metadata": {
        "id": "OuqQ83pmEoC-"
      },
      "source": [
        "# **Advanced Demand-Based Pricing Model**\n",
        "\n",
        "## **Model :**\n",
        "\n",
        "![image.png](data:image/png;base64,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)"
      ]
    },
    {
      "cell_type": "code",
      "execution_count": null,
      "metadata": {
        "id": "VqtGYxmydkp9"
      },
      "outputs": [],
      "source": [
        "# Coefficients for demand function\n",
        "A = 2.0   # OccRate weight\n",
        "B = 0.8   # QueueLength weight\n",
        "C = 0.5   # Traffic weight\n",
        "D = 2.0   # IsSpecialDay weight\n",
        "E = 0.5   # VehicleType weight\n",
        "\n",
        "# Assuming you already have 'data_with_time' table with these fields\n",
        "data_with_demand = data_with_time.with_columns(\n",
        "    demand = (\n",
        "        A * pw.this.occ_rate +\n",
        "        B * pw.this.QueueLength / 10 +\n",
        "        C * pw.this.TrafficConditionNearby / 2 +\n",
        "        D * pw.this.IsSpecialDay +\n",
        "        E * pw.this.VehicleType / 3\n",
        "    )\n",
        ")"
      ]
    },
    {
      "cell_type": "code",
      "execution_count": null,
      "metadata": {
        "id": "BEKQsBCiDeFD"
      },
      "outputs": [],
      "source": [
        "import datetime\n",
        "import pathway as pw\n",
        "\n",
        "BASE_PRICE = 10\n",
        "LAMBDA = 1.0\n",
        "\n",
        "# Add demand score to your data (if not already done)\n",
        "data_with_demand = data_with_time.with_columns(\n",
        "    demand = (\n",
        "        A * pw.this.occ_rate +\n",
        "        B * pw.this.QueueLength / 10 +\n",
        "        C * pw.this.TrafficConditionNearby / 2 +\n",
        "        D * pw.this.IsSpecialDay +\n",
        "        E * pw.this.VehicleType / 3\n",
        "    )\n",
        ")\n",
        "\n",
        "# Create daily pricing window\n",
        "demand_window = (\n",
        "    data_with_demand.windowby(\n",
        "        pw.this.t,\n",
        "        instance=pw.this.SystemCodeNumber + \"_\" + pw.this.day,\n",
        "        window=pw.temporal.tumbling(datetime.timedelta(days=1)),\n",
        "        behavior=pw.temporal.exactly_once_behavior()\n",
        "    )\n",
        "    .reduce(\n",
        "        lot          = pw.reducers.earliest(pw.this.SystemCodeNumber),\n",
        "        t            = pw.this._pw_window_end,\n",
        "        demand_max   = pw.reducers.max(pw.this.demand),\n",
        "        demand_min   = pw.reducers.min(pw.this.demand),\n",
        "        demand_sum   = pw.reducers.sum(pw.this.demand),\n",
        "        demand_count = pw.reducers.count()\n",
        "    )\n",
        "    .with_columns(\n",
        "        demand_avg = pw.this.demand_sum / pw.this.demand_count\n",
        "    )\n",
        "    .with_columns(\n",
        "        norm_demand = pw.if_else(\n",
        "            pw.this.demand_max - pw.this.demand_min > 0,\n",
        "            (pw.this.demand_avg - pw.this.demand_min) / (pw.this.demand_max - pw.this.demand_min),\n",
        "            0.0\n",
        "        )\n",
        "    )\n",
        "    .with_columns(\n",
        "        price = BASE_PRICE * (1 + LAMBDA * pw.this.norm_demand)\n",
        "    )\n",
        ")"
      ]
    },
    {
      "cell_type": "markdown",
      "metadata": {
        "id": "VibWtIAHFLYd"
      },
      "source": [
        "# **Competitive Pricing Model**\n",
        "\n",
        "\n",
        "**Logic :**\n",
        "\n",
        "> For each lot, find the nearest other lot (by lat/long) and compare their price.\n",
        "\n",
        "> If your lot is more expensive and less occupied, decrease price."
      ]
    },
    {
      "cell_type": "code",
      "execution_count": null,
      "metadata": {
        "id": "QcR6hcdWE39z"
      },
      "outputs": [],
      "source": [
        "from geopy.distance import geodesic\n",
        "import json\n",
        "import numpy as np\n",
        "\n",
        "# Computing lot -> nearest_lot mapping using geopy\n",
        "parking_lots = df[['SystemCodeNumber', 'Latitude', 'Longitude']].drop_duplicates().reset_index(drop=True)\n",
        "lot_coords = parking_lots.set_index('SystemCodeNumber')[['Latitude', 'Longitude']].T.to_dict()\n",
        "\n",
        "def find_nearest_lot(lot_id, lot_coords):\n",
        "    latlon = (lot_coords[lot_id]['Latitude'], lot_coords[lot_id]['Longitude'])\n",
        "    min_dist = float('inf')\n",
        "    nearest = None\n",
        "    for other, coord in lot_coords.items():\n",
        "        if other == lot_id: continue\n",
        "        dist = geodesic(latlon, (coord['Latitude'], coord['Longitude'])).meters\n",
        "        if dist < min_dist:\n",
        "            min_dist = dist\n",
        "            nearest = other\n",
        "    return nearest\n",
        "\n",
        "nearest_mapping = {lot: find_nearest_lot(lot, lot_coords) for lot in lot_coords}\n",
        "\n",
        "# UDF to fetch nearest lot from mapping\n",
        "@pw.udf\n",
        "def get_nearest_lot(lot_id: str) -> str:\n",
        "    nearest_map = {\n",
        "        # embed it statically (optional improvement: load externally if large)\n",
        "        lot: find_nearest_lot(lot, lot_coords)\n",
        "        for lot in lot_coords\n",
        "    }\n",
        "    return nearest_map.get(lot_id, None)\n",
        "\n",
        "# UDF for reroute decision based on price\n",
        "@pw.udf\n",
        "def competitor_logic(price: float) -> str:\n",
        "    competitor_price = BASE_PRICE + np.random.uniform(0, 2)  # Placeholder logic\n",
        "    return \"Suggest reroute\" if price > competitor_price + 1 else \"OK\"\n",
        "\n",
        "# Adding new columns using UDFs\n",
        "demand_window = demand_window.with_columns(\n",
        "    nearest_lot=get_nearest_lot(pw.this.lot)\n",
        ")\n",
        "\n",
        "demand_window = demand_window.with_columns(\n",
        "    competitor_suggestion=competitor_logic(pw.this.price)\n",
        ")\n"
      ]
    },
    {
      "cell_type": "markdown",
      "metadata": {
        "id": "zxn4h-06G_bh"
      },
      "source": [
        "# **Real-Time Visualization (Bokeh & Panel)**"
      ]
    },
    {
      "cell_type": "code",
      "execution_count": null,
      "metadata": {
        "id": "nRamZ_J0F2XG"
      },
      "outputs": [],
      "source": [
        "import bokeh.plotting\n",
        "import panel as pn\n",
        "\n",
        "pn.extension()\n",
        "\n",
        "def price_plotter(source):\n",
        "    fig = bokeh.plotting.figure(\n",
        "        height=400,\n",
        "        width=800,\n",
        "        title=\"Daily Parking Price (Demand-Based Model)\",\n",
        "        x_axis_type=\"datetime\"\n",
        "    )\n",
        "    fig.line(\"t\", \"price\", source=source, line_width=2, color=\"navy\", legend_label=\"Our Price\")\n",
        "    fig.circle(\"t\", \"price\", source=source, size=6, color=\"red\")\n",
        "    # Optionally plot competitor prices or demand\n",
        "    # fig.line(\"t\", \"competitor_price\", source=source, line_width=2, color=\"orange\", legend_label=\"Competitor\")\n",
        "    fig.legend.location = \"top_left\"\n",
        "    return fig\n",
        "\n",
        "# Visualize for any one lot, e.g., \"BHMBCCMKT01\"\n",
        "selected_lot = \"BHMBCCMKT01\"\n",
        "viz = (\n",
        "    demand_window.filter(pw.this.lot == selected_lot)\n",
        "    .plot(price_plotter, sorting_col=\"t\")\n",
        ")\n",
        "\n",
        "pn.Column(viz).servable()"
      ]
    },
    {
      "cell_type": "code",
      "execution_count": null,
      "metadata": {
        "id": "_0lwSF8FHEea"
      },
      "outputs": [],
      "source": [
        "# To visualize real-time run this cell\n",
        "%%capture --no-display\n",
        "pw.run()"
      ]
    },
    {
      "cell_type": "markdown",
      "metadata": {
        "id": "uyFPXCyoHl64"
      },
      "source": [
        "# **Model Explanation & Assumptions**\n",
        "\n",
        "## **Model 1 (Baseline) :**\n",
        "\n",
        "> Price increases linearly with occupancy rate.\n",
        "\n",
        "> Good as a reference, but reacts only to one feature.\n",
        "\n",
        "## **Model 2 (Demand-Based) :**\n",
        "\n",
        "> Considers queue, traffic, vehicle type, special days.\n",
        "\n",
        "> Demand is normalized and bounded, keeping price smooth.\n",
        "\n",
        "**Assumptions :**\n",
        "> All features contribute linearly (feel free to use nonlinear if desired).\n",
        "\n",
        "> Coefficients are chosen based on feature scale and intuition.\n",
        "\n",
        "\n",
        "## **Model 3 (Competitive) :**\n",
        "\n",
        "> Tries to detect if nearby lots are cheaper.\n",
        "\n",
        "> Can suggest rerouting or lowering the price if outcompeted."
      ]
    },
    {
      "cell_type": "markdown",
      "metadata": {
        "id": "V1dpZCY9ICgR"
      },
      "source": [
        "# **Thank you :)**\n",
        "\n"
      ]
    }
  ],
  "metadata": {
    "colab": {
      "provenance": []
    },
    "kernelspec": {
      "display_name": "Python 3",
      "name": "python3"
    },
    "language_info": {
      "name": "python"
    }
  },
  "nbformat": 4,
  "nbformat_minor": 0
}